{
 "cells": [
  {
   "cell_type": "markdown",
   "metadata": {},
   "source": [
    "<H4>Harry Potter's Invisibility Cloak using Python</H4>"
   ]
  },
  {
   "cell_type": "code",
   "execution_count": 1,
   "metadata": {},
   "outputs": [],
   "source": [
    "import cv2 \n",
    "import numpy as np \n",
    "import time "
   ]
  },
  {
   "cell_type": "code",
   "execution_count": 2,
   "metadata": {},
   "outputs": [],
   "source": [
    "## Preparation for writing the ouput video\n",
    "fourcc = cv2.VideoWriter_fourcc(*'XVID')\n",
    "out = cv2.VideoWriter('output.avi', fourcc, 20.0, (640, 480))"
   ]
  },
  {
   "cell_type": "code",
   "execution_count": 3,
   "metadata": {},
   "outputs": [],
   "source": [
    "def empty_function(x):\n",
    "    pass\n",
    "\n",
    "def ToolRecognition():\n",
    "    global lower\n",
    "    global upper\n",
    "    cap = cv2.VideoCapture(0)\n",
    "    cap.set(3,500)\n",
    "    cap.set(4,500)\n",
    "    cap.set(10,150)\n",
    "    \n",
    "    cv2.namedWindow(\"findcolour\")\n",
    "    cv2.resizeWindow(\"findcolur\",1000,1000)\n",
    "    cv2.createTrackbar(\"H_min\",\"findcolour\",0,178,empty_function)\n",
    "    cv2.createTrackbar(\"H_max\",\"findcolour\",178,178,empty_function)\n",
    "    cv2.createTrackbar(\"S_min\",\"findcolour\",0,255,empty_function)\n",
    "    cv2.createTrackbar(\"S_max\",\"findcolour\",255,255,empty_function)\n",
    "    cv2.createTrackbar(\"V_min\",\"findcolour\",0,255,empty_function)\n",
    "    cv2.createTrackbar(\"V_max\",\"findcolour\",255,255,empty_function)\n",
    "    \n",
    "    while True:\n",
    "        success,img = cap.read()\n",
    "        hsvimg = cv2.cvtColor(img,cv2.COLOR_BGR2HSV)\n",
    "        h_min = cv2.getTrackbarPos(\"H_min\",\"findcolour\")\n",
    "        h_max = cv2.getTrackbarPos(\"H_max\",\"findcolour\")\n",
    "        s_min = cv2.getTrackbarPos(\"S_min\",\"findcolour\")\n",
    "        s_max = cv2.getTrackbarPos(\"S_max\",\"findcolour\")\n",
    "        v_min = cv2.getTrackbarPos(\"V_min\",\"findcolour\")\n",
    "        v_max = cv2.getTrackbarPos(\"V_max\",\"findcolour\")\n",
    "        \n",
    "        lower = np.array([h_min,s_min,v_min])\n",
    "        upper = np.array([h_max,s_max,v_max])\n",
    "        \n",
    "        mask = cv2.inRange(hsvimg,lower,upper)\n",
    "\n",
    "        cv2.imshow(\"img\",img)\n",
    "        cv2.imshow(\"HSV\",hsvimg)\n",
    "        cv2.imshow(\"mask\",mask)\n",
    "       \n",
    "        if cv2.waitKey(1) & 0xFF == ord('q'):\n",
    "            cap.release()\n",
    "            cv2.destroyAllWindows()\n",
    "            break\n",
    "        "
   ]
  },
  {
   "cell_type": "code",
   "execution_count": 5,
   "metadata": {},
   "outputs": [],
   "source": [
    "ToolRecognition()"
   ]
  },
  {
   "cell_type": "code",
   "execution_count": 6,
   "metadata": {},
   "outputs": [],
   "source": [
    "capture_video = cv2.VideoCapture(0) \n",
    "\n",
    "time.sleep(3)  \n",
    "count = 0 \n",
    "background = 0 "
   ]
  },
  {
   "cell_type": "code",
   "execution_count": 7,
   "metadata": {},
   "outputs": [],
   "source": [
    "for i in range(60): \n",
    "    return_val, background = capture_video.read()\n",
    "    if return_val == False : \n",
    "        continue \n",
    "  \n",
    "background = np.flip(background, axis = 1) # flipping of the frame"
   ]
  },
  {
   "cell_type": "code",
   "execution_count": 8,
   "metadata": {},
   "outputs": [],
   "source": [
    "while (capture_video.isOpened()): \n",
    "    return_val, img = capture_video.read() \n",
    "    if not return_val : \n",
    "        break \n",
    "    count = count + 1\n",
    "    img = np.flip(img, axis = 1)\n",
    "    \n",
    "    hsv = cv2.cvtColor(img, cv2.COLOR_BGR2HSV)\n",
    "    \n",
    "    mask1 = cv2.inRange(hsv, lower, upper)\n",
    "\n",
    "    mask1 = cv2.morphologyEx(mask1, cv2.MORPH_OPEN, np.ones((3, 3), np.uint8),iterations = 2) \n",
    "    mask1 = cv2.morphologyEx(mask1, cv2.MORPH_DILATE, np.ones((3, 3), np.uint8), iterations = 1) \n",
    "    mask2 = cv2.bitwise_not(mask1) \n",
    "    \n",
    "    # Generating the final output \n",
    "    res1 = cv2.bitwise_and(background, background, mask = mask2) \n",
    "    res2 = cv2.bitwise_and(img, img, mask = mask1) \n",
    "    final_output = cv2.addWeighted(res1, 1, res2, 1, 0) \n",
    "\n",
    "    out.write(final_output)\n",
    "    cv2.imshow(\"INVISIBLE CLOAK\", final_output) \n",
    "    cv2.waitKey(1)\n",
    "    \n",
    "    if cv2.waitKey(1) & 0xFF == ord('q'):\n",
    "        capture_video.release()\n",
    "        out.release()\n",
    "        cv2.destroyAllWindows()"
   ]
  }
 ],
 "metadata": {
  "kernelspec": {
   "display_name": "Python 3",
   "language": "python",
   "name": "python3"
  },
  "language_info": {
   "codemirror_mode": {
    "name": "ipython",
    "version": 3
   },
   "file_extension": ".py",
   "mimetype": "text/x-python",
   "name": "python",
   "nbconvert_exporter": "python",
   "pygments_lexer": "ipython3",
   "version": "3.8.3"
  }
 },
 "nbformat": 4,
 "nbformat_minor": 4
}
